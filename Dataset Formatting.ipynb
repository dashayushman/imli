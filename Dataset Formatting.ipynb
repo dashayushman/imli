{
 "cells": [
  {
   "cell_type": "markdown",
   "metadata": {},
   "source": [
    "# Dataset Formatting\n",
    "\n",
    "All the datasets that we are using are formatted differently. So, we need to restructure the data (in a JSON format) to make them uniform. This helps in running experiments on multiple datasets without a lot of code change. The following are the datasets that we are using:\n",
    "\n",
    "1. AskUbuntu: **PLACEHOLDER**\n",
    "2. ChatbotCorpus: **PLACEHOLDER**\n",
    "3. WebApplicationsCorpus: **PLACEHOLDER**"
   ]
  },
  {
   "cell_type": "code",
   "execution_count": 4,
   "metadata": {},
   "outputs": [],
   "source": [
    "import os\n",
    "import json\n",
    "\n",
    "\n",
    "DATSET_ROOT = \"data/datasets\"\n",
    "\n",
    "ASK_UBUNTU_PATH = os.path.join(DATSET_ROOT, \"AskUbuntuCorpus.json\")\n",
    "CHATBOT_PATH = os.path.join(DATSET_ROOT, \"ChatbotCorpus.json\")\n",
    "WEB_APPLICATIONS_PATH = os.path.join(DATSET_ROOT, \"WebApplicationsCorpus.json\")"
   ]
  },
  {
   "cell_type": "markdown",
   "metadata": {},
   "source": [
    "## AskUbuntu"
   ]
  },
  {
   "cell_type": "code",
   "execution_count": 5,
   "metadata": {},
   "outputs": [],
   "source": []
  },
  {
   "cell_type": "code",
   "execution_count": null,
   "metadata": {},
   "outputs": [],
   "source": []
  }
 ],
 "metadata": {
  "kernelspec": {
   "display_name": "Python 3",
   "language": "python",
   "name": "python3"
  },
  "language_info": {
   "codemirror_mode": {
    "name": "ipython",
    "version": 3
   },
   "file_extension": ".py",
   "mimetype": "text/x-python",
   "name": "python",
   "nbconvert_exporter": "python",
   "pygments_lexer": "ipython3",
   "version": "3.6.3"
  }
 },
 "nbformat": 4,
 "nbformat_minor": 2
}
