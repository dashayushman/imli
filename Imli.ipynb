{
 "cells": [
  {
   "cell_type": "code",
   "execution_count": 73,
   "metadata": {},
   "outputs": [],
   "source": [
    "import json\n",
    "import spacy\n",
    "\n",
    "import numpy as np\n",
    "\n",
    "from sklearn.model_selection import StratifiedShuffleSplit\n",
    "from sklearn.feature_extraction.text import TfidfVectorizer\n",
    "\n",
    "nlp_spacy_en = None\n",
    "nlp_spacy_es = None\n",
    "\n",
    "def get_spacy_model(lang=\"en\"):\n",
    "    global nlp_spacy_en\n",
    "    global nlp_spacy_es\n",
    "    if lang == \"en\":\n",
    "        if nlp_spacy_en is None: \n",
    "            nlp_spacy_en = spacy.load(lang)\n",
    "        return nlp_spacy_en\n",
    "    elif lang == \"es\":\n",
    "        if nlp_spacy_es is None: \n",
    "            nlp_spacy_es = spacy.load(lang)\n",
    "        return nlp_spacy_es"
   ]
  },
  {
   "cell_type": "code",
   "execution_count": 74,
   "metadata": {},
   "outputs": [],
   "source": [
    "class Dataset():\n",
    "    \n",
    "    def __init__(self, dataset_path, n_splits=3, ratio=0.3, augment=False):\n",
    "        self.dataset_path = dataset_path\n",
    "        self.augment = augment\n",
    "        self.n_splits = n_splits\n",
    "        self.ratio = ratio\n",
    "        self.X, self.y = self.load()\n",
    "        self.splits = self.stratified_split(self.X, self.y, self.n_splits, self.ratio)\n",
    "    \n",
    "    def load(self):\n",
    "        with open(self.dataset_path, \"r\") as f:\n",
    "            dataset = json.load(f)\n",
    "            X = [sample[\"text\"] for sample in dataset[\"sentences\"]]\n",
    "            y = [sample[\"intent\"] for sample in dataset[\"sentences\"]]\n",
    "        return X, y\n",
    "    \n",
    "    def stratified_split(self, X, y, n_splits=10, test_size=0.2):\n",
    "        skf = StratifiedShuffleSplit(n_splits=n_splits, test_size=test_size, random_state=42)\n",
    "        skf.get_n_splits(X, y)\n",
    "        splits = []\n",
    "        for train_index, test_index in skf.split(X, y):\n",
    "            # print(\"TRAIN:\", train_index, \"\\n\\n\", \"TEST:\", test_index, \"\\n\\n\")\n",
    "            X_train, X_test = [X[i] for i in train_index], [X[i] for i in test_index]\n",
    "            y_train, y_test = [y[i] for i in train_index], [y[i] for i in test_index]\n",
    "            # add augmentation code here\n",
    "            splits.append({\"train\": {\"X\": X_train, \"y\": y_train},\n",
    "                           \"test\": {\"X\": X_test, \"y\": y_test}})\n",
    "        return splits\n",
    "    \n",
    "    def get_splits(self):\n",
    "        return self.splits "
   ]
  },
  {
   "cell_type": "code",
   "execution_count": 75,
   "metadata": {},
   "outputs": [
    {
     "name": "stdout",
     "output_type": "stream",
     "text": [
      "X train ['Are there any hardware diagnostic tools?', 'Is there a tool like wifi analyzer for ubuntu?']\n",
      "y train ['Software Recommendation', 'Software Recommendation']\n",
      "X test ['How can I shutdown the computer when a certain process ends?', 'What are some good PHP editors?']\n",
      "y test ['Shutdown Computer', 'Software Recommendation']\n",
      "X train [\"What does my computer do when I click 'Shut Down'?\", 'Torrent client for the command-line?']\n",
      "y train ['Shutdown Computer', 'None']\n",
      "X test ['Cannot setup HP All in one DJ3630', 'How to record my screen?']\n",
      "y test ['Setup Printer', 'None']\n",
      "X train ['How is rm command different from the delete button?', 'Cannot install printer driver epson l210']\n",
      "y train ['None', 'Setup Printer']\n",
      "X test ['How to partially upgrade Ubuntu 11.10 from Ubuntu 11.04?', 'Is there any program for fuzzy string matching which provides a match score?']\n",
      "y test ['Make Update', 'Software Recommendation']\n"
     ]
    }
   ],
   "source": [
    "dataset = Dataset(\"/home/dash/projects/imli/data/datasets/AskUbuntuCorpus.json\")\n",
    "splits = dataset.get_splits()\n",
    "for split in splits:\n",
    "    print(\"X train\", split[\"train\"][\"X\"][: 2])\n",
    "    print(\"y train\", split[\"train\"][\"y\"][:2])\n",
    "    print(\"X test\", split[\"test\"][\"X\"][: 2])\n",
    "    print(\"y test\", split[\"test\"][\"y\"][:2])"
   ]
  },
  {
   "cell_type": "code",
   "execution_count": 76,
   "metadata": {},
   "outputs": [],
   "source": [
    "def find_ngrams(input_list, n):\n",
    "    return zip(*[input_list[i:] for i in range(n)])\n",
    "\n",
    "def semhash_tokenizer(text):\n",
    "    tokens = text.split(\" \")\n",
    "    final_tokens = []\n",
    "    for unhashed_token in tokens:\n",
    "        hashed_token = \"#{}#\".format(unhashed_token)\n",
    "        final_tokens += [''.join(gram)\n",
    "                         for gram in list(find_ngrams(list(hashed_token), 3))]\n",
    "    return final_tokens\n",
    "\n",
    "class SemhashFeaturizer:\n",
    "    def __init__(self):\n",
    "        self.vectorizer = self.get_vectorizer()\n",
    "    \n",
    "    def get_vectorizer(self):\n",
    "        return TfidfVectorizer(norm='l2',min_df=0, use_idf=True, smooth_idf=False,\n",
    "                               sublinear_tf=True, tokenizer=semhash_tokenizer)\n",
    "    \n",
    "    def fit(self, X, *args, **kwargs):\n",
    "        self.vectorizer.fit(X)\n",
    "        \n",
    "    \n",
    "    def transform(self, X):\n",
    "        return self.vectorizer.transform(X).toarray()"
   ]
  },
  {
   "cell_type": "code",
   "execution_count": 77,
   "metadata": {},
   "outputs": [
    {
     "name": "stdout",
     "output_type": "stream",
     "text": [
      "[[0.         0.         0.         0.4472136  0.         0.\n",
      "  0.         0.4472136  0.4472136  0.4472136  0.4472136  0.        ]\n",
      " [0.37796447 0.37796447 0.37796447 0.         0.37796447 0.37796447\n",
      "  0.37796447 0.         0.         0.         0.         0.37796447]]\n"
     ]
    }
   ],
   "source": [
    "X, y = [\"hello\", \"I am a boy\"], [\"A\", \"B\"]\n",
    "\n",
    "semhash_featurizer = SemhashFeaturizer()\n",
    "semhash_featurizer.fit(X, y)\n",
    "X_ = semhash_featurizer.transform(X)\n",
    "print(X_)"
   ]
  },
  {
   "cell_type": "code",
   "execution_count": 80,
   "metadata": {},
   "outputs": [],
   "source": [
    "class W2VFeaturizer:\n",
    "    def __init__(self, lang):\n",
    "        self.lang = lang\n",
    "    \n",
    "    def fit(self, X, *args, **kwargs):\n",
    "        pass\n",
    "    \n",
    "    def transform(self, x):\n",
    "        return np.array([get_spacy_model(self.lang)(s).vector for s in x])"
   ]
  },
  {
   "cell_type": "code",
   "execution_count": 82,
   "metadata": {},
   "outputs": [
    {
     "name": "stdout",
     "output_type": "stream",
     "text": [
      "(2, 384)\n"
     ]
    }
   ],
   "source": [
    "X, y = [\"hello\", \"I am a boy\"], [\"A\", \"B\"]\n",
    "glove_path = \"\"\n",
    "w2v_featurizer = W2VFeaturizer(\"en\")\n",
    "w2v_featurizer.fit(X, y)\n",
    "X_ = w2v_featurizer.transform(X)\n",
    "print(X_.shape)"
   ]
  },
  {
   "cell_type": "code",
   "execution_count": null,
   "metadata": {},
   "outputs": [],
   "source": []
  }
 ],
 "metadata": {
  "kernelspec": {
   "display_name": "Python 3",
   "language": "python",
   "name": "python3"
  },
  "language_info": {
   "codemirror_mode": {
    "name": "ipython",
    "version": 3
   },
   "file_extension": ".py",
   "mimetype": "text/x-python",
   "name": "python",
   "nbconvert_exporter": "python",
   "pygments_lexer": "ipython3",
   "version": "3.6.3"
  }
 },
 "nbformat": 4,
 "nbformat_minor": 2
}
