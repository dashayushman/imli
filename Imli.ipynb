{
 "cells": [
  {
   "cell_type": "code",
   "execution_count": 8,
   "metadata": {},
   "outputs": [],
   "source": [
    "import json\n",
    "\n",
    "from sklearn.model_selection import StratifiedShuffleSplit"
   ]
  },
  {
   "cell_type": "code",
   "execution_count": 17,
   "metadata": {},
   "outputs": [],
   "source": [
    "class Dataset():\n",
    "    \n",
    "    def __init__(self, dataset_path, n_splits=3, ratio=0.3):\n",
    "        self.dataset_path = dataset_path\n",
    "        self.n_splits = n_splits\n",
    "        self.ratio = ratio\n",
    "        self.X, self.y = self.load()\n",
    "        self.splits = self.stratified_split(self.X, self.y, self.n_splits, self.ratio)\n",
    "    \n",
    "    def load(self):\n",
    "        with open(self.dataset_path, \"r\") as f:\n",
    "            dataset = json.load(f)\n",
    "            X = [sample[\"text\"] for sample in dataset[\"sentences\"]]\n",
    "            y = [sample[\"intent\"] for sample in dataset[\"sentences\"]]\n",
    "        return X, y\n",
    "    \n",
    "    def stratified_split(self, X, y, n_splits=10, test_size=0.2):\n",
    "        skf = StratifiedShuffleSplit(n_splits=n_splits, test_size=test_size, random_state=42)\n",
    "        skf.get_n_splits(X, y)\n",
    "        splits = []\n",
    "        for train_index, test_index in skf.split(X, y):\n",
    "            # print(\"TRAIN:\", train_index, \"\\n\\n\", \"TEST:\", test_index, \"\\n\\n\")\n",
    "            X_train, X_test = [X[i] for i in train_index], [X[i] for i in test_index]\n",
    "            y_train, y_test = [y[i] for i in train_index], [y[i] for i in test_index]\n",
    "            splits.append({\"train\": {\"X\": X_train, \"y\": y_train},\n",
    "                           \"test\": {\"X\": X_test, \"y\": y_test}})\n",
    "        return splits\n",
    "    \n",
    "    def get_splits(self):\n",
    "        return self.splits "
   ]
  },
  {
   "cell_type": "code",
   "execution_count": 22,
   "metadata": {},
   "outputs": [
    {
     "name": "stdout",
     "output_type": "stream",
     "text": [
      "X train ['Are there any hardware diagnostic tools?', 'Is there a tool like wifi analyzer for ubuntu?', 'Cannot install printer driver epson l210', 'How to add a network printer on Ubuntu 15.10?', 'What IDEs are available for Ubuntu?']\n",
      "y train ['Software Recommendation', 'Software Recommendation', 'Setup Printer', 'Setup Printer', 'Software Recommendation']\n",
      "X test ['How can I shutdown the computer when a certain process ends?', 'What are some good PHP editors?', 'How to shutdown computer when users are logged on?', 'Do I need to reinstall everything to upgrade from 13.10 to 14.10?', 'upgrading to Ubuntu 13.10 from Ubuntu 13.04']\n",
      "y test ['Shutdown Computer', 'Software Recommendation', 'Shutdown Computer', 'Make Update', 'Make Update']\n",
      "X train [\"What does my computer do when I click 'Shut Down'?\", 'Torrent client for the command-line?', 'Is there software that can view .dwg files?', 'How to install a Lexmark z600 series printer?', 'Problem upgrading Ubuntu 9.10']\n",
      "y train ['Shutdown Computer', 'None', 'Software Recommendation', 'Setup Printer', 'Make Update']\n",
      "X test ['Cannot setup HP All in one DJ3630', 'How to record my screen?', 'What is a good MongoDB GUI client?', 'How do I install drivers for a Konica Minolta 200?', 'How to shutdown the computer after Xsession ends?']\n",
      "y test ['Setup Printer', 'None', 'Software Recommendation', 'Setup Printer', 'Shutdown Computer']\n",
      "X train ['How is rm command different from the delete button?', 'Cannot install printer driver epson l210', \"What does my computer do when I click 'Shut Down'?\", 'Torrent client for the command-line?', 'Which application do you recommend for watching TV (DVB)?']\n",
      "y train ['None', 'Setup Printer', 'Shutdown Computer', 'None', 'Software Recommendation']\n",
      "X test ['How to partially upgrade Ubuntu 11.10 from Ubuntu 11.04?', 'Is there any program for fuzzy string matching which provides a match score?', \"How to Upgrade from 11.10 to 12.04 when you've got a problem?\", 'How can I highlight or annotate PDFs?', 'How do I setup my HP C4140 printer wirelessly?']\n",
      "y test ['Make Update', 'Software Recommendation', 'Make Update', 'None', 'Setup Printer']\n"
     ]
    }
   ],
   "source": [
    "dataset = Dataset(\"/home/dash/projects/imli/data/datasets/AskUbuntuCorpus.json\")\n",
    "splits = dataset.get_splits()\n",
    "for split in splits:\n",
    "    print(\"X train\", split[\"train\"][\"X\"][: 2])\n",
    "    print(\"y train\", split[\"train\"][\"y\"][:2])\n",
    "    print(\"X test\", split[\"test\"][\"X\"][: 2])\n",
    "    print(\"y test\", split[\"test\"][\"y\"][:2])"
   ]
  },
  {
   "cell_type": "code",
   "execution_count": null,
   "metadata": {},
   "outputs": [],
   "source": []
  }
 ],
 "metadata": {
  "kernelspec": {
   "display_name": "Python 3",
   "language": "python",
   "name": "python3"
  },
  "language_info": {
   "codemirror_mode": {
    "name": "ipython",
    "version": 3
   },
   "file_extension": ".py",
   "mimetype": "text/x-python",
   "name": "python",
   "nbconvert_exporter": "python",
   "pygments_lexer": "ipython3",
   "version": "3.6.3"
  }
 },
 "nbformat": 4,
 "nbformat_minor": 2
}
